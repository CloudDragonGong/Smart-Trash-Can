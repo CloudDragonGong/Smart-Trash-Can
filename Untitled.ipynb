{
 "cells": [
  {
   "cell_type": "code",
   "execution_count": 1,
   "id": "7181245e",
   "metadata": {},
   "outputs": [
    {
     "name": "stdout",
     "output_type": "stream",
     "text": [
      "数据集分割完成\n"
     ]
    }
   ],
   "source": [
    "import os\n",
    "import random\n",
    "import shutil\n",
    "\n",
    "# 设置输入目录和输出目录\n",
    "input_img_dir = \"img\"\n",
    "input_labels_dir = \"labels\"\n",
    "output_root_dir = \"datasets/smart_can\"\n",
    "output_img_train_dir = os.path.join(output_root_dir, \"images/train\")\n",
    "output_img_val_dir = os.path.join(output_root_dir, \"images/val\")\n",
    "output_labels_train_dir = os.path.join(output_root_dir, \"labels/train\")\n",
    "output_labels_val_dir = os.path.join(output_root_dir, \"labels/val\")\n",
    "\n",
    "# 创建输出目录\n",
    "os.makedirs(output_img_train_dir, exist_ok=True)\n",
    "os.makedirs(output_img_val_dir, exist_ok=True)\n",
    "os.makedirs(output_labels_train_dir, exist_ok=True)\n",
    "os.makedirs(output_labels_val_dir, exist_ok=True)\n",
    "\n",
    "# 获取所有图片和标签文件的列表\n",
    "img_files = os.listdir(input_img_dir)\n",
    "label_files = os.listdir(input_labels_dir)\n",
    "\n",
    "# 随机打乱文件列表\n",
    "random.shuffle(img_files)\n",
    "\n",
    "# 计算用于验证集的文件数量\n",
    "val_split = 0.2  # 20% 的数据用于验证集\n",
    "num_val_files = int(len(img_files) * val_split)\n",
    "\n",
    "# 将文件分配到训练集和验证集\n",
    "train_img_files = img_files[num_val_files:]\n",
    "val_img_files = img_files[:num_val_files]\n",
    "\n",
    "# 复制图像文件到训练集和验证集目录\n",
    "for img_file in train_img_files:\n",
    "    shutil.copy(os.path.join(input_img_dir, img_file), os.path.join(output_img_train_dir, img_file))\n",
    "for img_file in val_img_files:\n",
    "    shutil.copy(os.path.join(input_img_dir, img_file), os.path.join(output_img_val_dir, img_file))\n",
    "\n",
    "# 复制标签文件到训练集和验证集目录\n",
    "for img_file in train_img_files:\n",
    "    label_file = img_file.replace(\".jpg\", \".txt\")\n",
    "    shutil.copy(os.path.join(input_labels_dir, label_file), os.path.join(output_labels_train_dir, label_file))\n",
    "for img_file in val_img_files:\n",
    "    label_file = img_file.replace(\".jpg\", \".txt\")\n",
    "    shutil.copy(os.path.join(input_labels_dir, label_file), os.path.join(output_labels_val_dir, label_file))\n",
    "\n",
    "print(\"数据集分割完成\")\n"
   ]
  },
  {
   "cell_type": "code",
   "execution_count": 2,
   "id": "1b87956c",
   "metadata": {},
   "outputs": [
    {
     "name": "stdout",
     "output_type": "stream",
     "text": [
      "train_list.txt 和 val_list.txt 创建完成\n"
     ]
    }
   ],
   "source": [
    "import os\n",
    "\n",
    "# 指定数据集根目录\n",
    "dataset_root = \"datasets/smart_can\"\n",
    "\n",
    "# 指定训练集和验证集图像目录\n",
    "train_img_dir = os.path.join(dataset_root, \"images/train\")\n",
    "val_img_dir = os.path.join(dataset_root, \"images/val\")\n",
    "\n",
    "# 获取训练集和验证集图像文件列表\n",
    "train_img_files = [os.path.join(train_img_dir, filename) for filename in os.listdir(train_img_dir)]\n",
    "val_img_files = [os.path.join(val_img_dir, filename) for filename in os.listdir(val_img_dir)]\n",
    "\n",
    "# 创建并写入train_list.txt\n",
    "with open(\"train_list.txt\", \"w\") as train_list_file:\n",
    "    train_list_file.write(\"\\n\".join(train_img_files))\n",
    "\n",
    "# 创建并写入val_list.txt\n",
    "with open(\"val_list.txt\", \"w\") as val_list_file:\n",
    "    val_list_file.write(\"\\n\".join(val_img_files))\n",
    "\n",
    "print(\"train_list.txt 和 val_list.txt 创建完成\")\n"
   ]
  },
  {
   "cell_type": "code",
   "execution_count": 3,
   "id": "b2654383",
   "metadata": {},
   "outputs": [
    {
     "name": "stdout",
     "output_type": "stream",
     "text": [
      "train_list.txt 和 val_list.txt 中的反斜杠已替换为正斜杠\n"
     ]
    }
   ],
   "source": [
    "# 指定train_list.txt和val_list.txt文件路径\n",
    "train_list_file_path = r\"datasets/smart_can/train_list.txt\"\n",
    "val_list_file_path = r\"datasets/smart_can/val_list.txt\"\n",
    "\n",
    "# 读取train_list.txt并替换反斜杠为正斜杠\n",
    "with open(train_list_file_path, \"r\") as train_list_file:\n",
    "    train_list_content = train_list_file.read()\n",
    "    train_list_content = train_list_content.replace(\"\\\\\", \"/\")\n",
    "\n",
    "# 将替换后的内容写回train_list.txt\n",
    "with open(train_list_file_path, \"w\") as train_list_file:\n",
    "    train_list_file.write(train_list_content)\n",
    "\n",
    "# 读取val_list.txt并替换反斜杠为正斜杠\n",
    "with open(val_list_file_path, \"r\") as val_list_file:\n",
    "    val_list_content = val_list_file.read()\n",
    "    val_list_content = val_list_content.replace(\"\\\\\", \"/\")\n",
    "\n",
    "# 将替换后的内容写回val_list.txt\n",
    "with open(val_list_file_path, \"w\") as val_list_file:\n",
    "    val_list_file.write(val_list_content)\n",
    "\n",
    "print(\"train_list.txt 和 val_list.txt 中的反斜杠已替换为正斜杠\")\n"
   ]
  },
  {
   "cell_type": "code",
   "execution_count": null,
   "id": "1eb25d23",
   "metadata": {},
   "outputs": [],
   "source": []
  }
 ],
 "metadata": {
  "kernelspec": {
   "display_name": "Python 3 (ipykernel)",
   "language": "python",
   "name": "python3"
  },
  "language_info": {
   "codemirror_mode": {
    "name": "ipython",
    "version": 3
   },
   "file_extension": ".py",
   "mimetype": "text/x-python",
   "name": "python",
   "nbconvert_exporter": "python",
   "pygments_lexer": "ipython3",
   "version": "3.8.16"
  }
 },
 "nbformat": 4,
 "nbformat_minor": 5
}
